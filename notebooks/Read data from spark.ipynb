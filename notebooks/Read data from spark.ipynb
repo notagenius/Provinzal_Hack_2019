{
 "cells": [
  {
   "cell_type": "code",
   "execution_count": 1,
   "metadata": {
    "cell_status": {
     "execute_time": {
      "duration": 5337.679931640625,
      "end_time": 1573245746556.211
     }
    },
    "collapsed": false
   },
   "outputs": [
    {
     "name": "stdout",
     "output_type": "stream",
     "text": [
      "Starting Spark application\n"
     ]
    },
    {
     "data": {
      "text/html": [
       "<table>\n",
       "<tr><th>ID</th><th>YARN Application ID</th><th>Kind</th><th>State</th><th>Spark UI</th><th>Driver log</th><th>Current session?</th></tr><tr><td>9</td><td>application_1573237742224_0014</td><td>pyspark3</td><td>idle</td><td><a target=\"_blank\" href=\"http://hn1-prvha2.fkwm2msyskxedpngrr3wktu2df.bx.internal.cloudapp.net:8088/proxy/application_1573237742224_0014/\">Link</a></td><td><a target=\"_blank\" href=\"http://wn5-prvha2.fkwm2msyskxedpngrr3wktu2df.bx.internal.cloudapp.net:30060/node/containerlogs/container_1573237742224_0014_01_000001/livy\">Link</a></td><td>✔</td></tr></table>"
      ],
      "text/plain": [
       "<IPython.core.display.HTML object>"
      ]
     },
     "metadata": {},
     "output_type": "display_data"
    },
    {
     "name": "stdout",
     "output_type": "stream",
     "text": [
      "SparkSession available as 'spark'.\n"
     ]
    }
   ],
   "source": [
    "from pyspark import *\n",
    "dataFrame = spark.table(\"financial\")"
   ]
  },
  {
   "cell_type": "code",
   "execution_count": null,
   "metadata": {
    "cell_status": {
     "execute_time": {
      "duration": 5301.14990234375,
      "end_time": 1573245759105.717
     }
    },
    "collapsed": false
   },
   "outputs": [],
   "source": [
    "dataFrame.select(\"amount\")"
   ]
  }
 ],
 "metadata": {
  "kernelspec": {
   "display_name": "PySpark3",
   "language": "",
   "name": "pyspark3kernel"
  },
  "language_info": {
   "codemirror_mode": {
    "name": "python",
    "version": 3
   },
   "mimetype": "text/x-python",
   "name": "pyspark3",
   "pygments_lexer": "python3"
  }
 },
 "nbformat": 4,
 "nbformat_minor": 2
}
